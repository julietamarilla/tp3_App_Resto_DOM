{
 "cells": [
  {
   "cell_type": "markdown",
   "metadata": {},
   "source": [
    "<h3>¿Qué son los Eventos?</h3>\n",
    "Vamos a usar la misma analogía de música del inicio. En la aplicación de música, debes realizar una acción [hacer clic o deslizar] antes de que se activen las funcionalidades.\n",
    "<br>\n",
    "En el DOM, esta acción es conocida como un evento. Tenemos muchos eventos como el clic, desplazar, pasar el cursor por encima, cambiar, y más.\n",
    "<br>\n",
    "En el DOM, las respuestas están sujetas a cada evento. Es decir, que debe suceder un evento para obtener una respuesta. Esto es conocido como un event listener. El detector de eventos usualmente viene en forma de un método addEventListener y este toma dos argumentos (evento, y manejador de evento).\n",
    "<br>\n",
    "<h4>Anatomía de un evento</h4>\n",
    "Los eventos del DOM normalmente contienen un elemento, su event listener, y una función."
   ]
  },
  {
   "cell_type": "code",
   "execution_count": null,
   "metadata": {
    "vscode": {
     "languageId": "javascript"
    }
   },
   "outputs": [],
   "source": [
    "element.[eventListenerMethod(event, eventHandler)"
   ]
  },
  {
   "cell_type": "markdown",
   "metadata": {},
   "source": [
    "<h4>¿Qué son los manejadores de Eventos?</h4>\n",
    "Los manejadores de eventos son las respuestas enviadas cuando nuestro método event listener lee un evento. Sin un manejador de eventos, no tenemos manera de alertar a nuestro código de que un evento ha ocurrido.\n",
    "<br>\n",
    "Todas las modificaciones que suceden en el DOM, tales como estilizar, agregar, eliminar, entre otros, son responsabilidad de los manejadores de eventos. Estas son las funciones que se encuentran en el segundo argumento del método addEventListener. Estas están siempre alerta para ejecutarse tan pronto ocurra el evento (el primer argumento)."
   ]
  },
  {
   "cell_type": "code",
   "execution_count": null,
   "metadata": {
    "vscode": {
     "languageId": "javascript"
    }
   },
   "outputs": [],
   "source": [
    "redColor.addEventListener(\"click\", function () {\n",
    "    cartButton.style.backgroundColor = \"red\";\n",
    " \n",
    "  });"
   ]
  },
  {
   "cell_type": "markdown",
   "metadata": {},
   "source": [
    "En el código de arriba, la función después del evento 'clic' es el manejador de evento. Esto quiere decir que todo lo que está dentro de la función será implementado cuando al color rojo se le haya hecho clic.\n",
    "<br>\n",
    "Con <code>.addEventListener()</code> se pueden añadir fácilmente múltiples funcionalidades.<br>\n",
    "Con <code>.removeEventListener()</code> se puede eliminar una funcionalidad previamente añadida."
   ]
  },
  {
   "cell_type": "code",
   "execution_count": null,
   "metadata": {
    "vscode": {
     "languageId": "javascript"
    }
   },
   "outputs": [],
   "source": [
    "redColor.addEventListener(\"click\", function () {\n",
    "  cartButton.style.backgroundColor = \"red\";\n",
    "  itemTag.style.backgroundColor = \"red\";\n",
    "  imageCard.style.backgroundImage = 'url(\"./img/red-benz.webp\")';\n",
    "});\n",
    "\n",
    "redColor.removeEventListener(\"click\", function () {\n",
    "  cartButton.style.backgroundColor = \"red\";\n",
    "  itemTag.style.backgroundColor = \"red\";\n",
    "  imageCard.style.backgroundImage = 'url(\"./img/red-benz.webp\")';\n",
    "});\n"
   ]
  },
  {
   "cell_type": "markdown",
   "metadata": {},
   "source": [
    "<h3>Evento <code>.addEventListener()</code></h3>\n",
    "Con el método .addEventListener() permite añadir una escucha del evento indicado (primer parámetro), y en el caso de que ocurra, se ejecutará la función asociada indicada (segundo parámetro). De forma opcional, se le puede pasar un tercer parámetro  con ciertas opciones, que veremos más adelante:"
   ]
  },
  {
   "cell_type": "code",
   "execution_count": null,
   "metadata": {
    "vscode": {
     "languageId": "javascript"
    }
   },
   "outputs": [],
   "source": [
    "const boton = document.querySelector(\"button\");\n",
    "\n",
    "function action() {\n",
    "  alert(\"HOLA!\");\n",
    "};\n",
    "\n",
    "boton.addEventListener(\"click\", action);"
   ]
  },
  {
   "cell_type": "markdown",
   "metadata": {},
   "source": [
    "1️⃣ Buscamos el elemento que tendrá el evento, en este caso <code>button</code> <br>\n",
    "2️⃣ Creamos una función <code>action()</code> que realizará la acción deseada.<br>\n",
    "3️⃣ En el botón, escuchamos el evento <code>click</code> y le asociamos la función <code>action</code>."
   ]
  },
  {
   "cell_type": "markdown",
   "metadata": {},
   "source": [
    "<li>En el primer parámetro indicamos el nombre del evento, en nuestro ejemplo, click. Con .addEventListener() no se precede con on los nombres de eventos y se escriben en minúsculas, sin camelCase.</li>\n",
    "<li>En el segundo parámetro indicamos la función con el código que queremos que se ejecute cuando ocurra el evento.</li>\n",
    "<li>Aunque es posible que al principio veas más organizado este código, es muy habitual escribir los eventos de esta otra forma:</li>"
   ]
  },
  {
   "cell_type": "code",
   "execution_count": null,
   "metadata": {
    "vscode": {
     "languageId": "javascript"
    }
   },
   "outputs": [],
   "source": [
    "const boton = document.querySelector(\"button\");\n",
    "\n",
    "boton.addEventListener(\"click\", function() {\n",
    "  alert(\"Hello!\");\n",
    "});"
   ]
  },
  {
   "cell_type": "markdown",
   "metadata": {},
   "source": [
    "En lugar de tener la función definida fuera, la utilizamos en el propio <code>.addEventListener()</code> y nos ahorramos ponerle un nombre, es decir, utilizamos una función anónima. Si prefieres utilizar las funciones flecha de Javascript, quedaría incluso más legible:"
   ]
  },
  {
   "cell_type": "code",
   "execution_count": null,
   "metadata": {
    "vscode": {
     "languageId": "javascript"
    }
   },
   "outputs": [],
   "source": [
    "const button = document.querySelector(\"button\");\n",
    "\n",
    "button.addEventListener(\"click\", () => alert(\"Hello!\"));"
   ]
  }
 ],
 "metadata": {
  "language_info": {
   "name": "python"
  }
 },
 "nbformat": 4,
 "nbformat_minor": 2
}
