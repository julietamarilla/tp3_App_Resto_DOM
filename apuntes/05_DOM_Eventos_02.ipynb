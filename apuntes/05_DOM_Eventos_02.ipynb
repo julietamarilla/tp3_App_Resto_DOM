{
 "cells": [
  {
   "cell_type": "markdown",
   "metadata": {},
   "source": [
    "<h2>Múltiples listeners</h2>\n",
    "Dicho método <code>.addEventListener()</code> permite asociar múltiples funciones a un mismo evento, algo que, aunque no es imposible, es menos sencillo e intuitivo en las modalidades de gestionar eventos que vimos anteriormente:"
   ]
  },
  {
   "cell_type": "code",
   "execution_count": null,
   "metadata": {
    "vscode": {
     "languageId": "javascript"
    }
   },
   "outputs": [],
   "source": [
    "const boton = document.querySelector(\"button\");\n",
    "const action = () => alert(\"Hello!\");\n",
    "const toggle = () => button.classList.toggle(\"red\");\n",
    "\n",
    "boton.addEventListener(\"click\", action);         // Hello message\n",
    "boton.addEventListener(\"click\", toggle);         // Add/remove red CSS"
   ]
  },
  {
   "cell_type": "code",
   "execution_count": null,
   "metadata": {
    "vscode": {
     "languageId": "html"
    }
   },
   "outputs": [],
   "source": [
    "<style>.red { background: red }</style>\n",
    "<button>Saludar</button>"
   ]
  },
  {
   "cell_type": "markdown",
   "metadata": {},
   "source": [
    "Observa que en este ejemplo, hemos añadido una clase <code>.red</code> de CSS, que coloca el color de fondo del botón en rojo. Además, hemos creado dos funcionalidades:\n",
    "<br>\n",
    "<li>action, que muestra un mensaje de saludo</li>\n",
    "<li>toggle, que añade o quita el color rojo del botón</li> <br>\n",
    "Observa que al pulsar el botón se efectuan ambas acciones, ya que hay dos listeners en escucha."
   ]
  },
  {
   "cell_type": "markdown",
   "metadata": {},
   "source": [
    "<h3 >Opciones de <code>.addEventListener()</code></h3>\n",
    "Al utilizar el método  <code>.addEventListener()</code>, se puede indicar un tercer parámetro opcional. Se trata de un  opcional en el cual podemos indicar alguna de las siguientes opciones para modificar alguna característica del listener en cuestión que vamos a crear:"
   ]
  },
  {
   "cell_type": "markdown",
   "metadata": {},
   "source": [
    "<table>\n",
    "<thead>\n",
    "<tr><td>Opción</td>\t<td>Descripción</td></tr></thead><tbody>\n",
    " <tr><td>capture (boolean)</td>\t<td>\tEl evento se dispara al inicio (capture), en lugar de al final (bubble).</td></tr>\n",
    "<tr><td> once (boolean)</td>\t<td>\tSólo ejecuta la función la primera vez. Luego, elimina listener.</td></tr>\n",
    "<tr><td> passive (boolean)</td>\t<td>\tLa función nunca llama a .preventDefault() (mejora rendimiento).</td></tr>\n",
    "</tbody>\n",
    "</table>\n",
    "<br>\n",
    "<li>En primer lugar, la opción <code>capture</code> nos permite modificar la modalidad en la que escuchará el evento (capture/bubbles, ver más adelante). Esto, básicamente, lo que hace es modificar en que momento se procesa el evento.</li>\n",
    "\n",
    "<li>En segundo lugar, la opción <code>once</code> nos permite indicar que el evento se procesará solo la primera vez que se dispare un evento. Internamente, lo que hace es ejecutarse una primera vez y luego llamar al <code>.removeEventListener()</code>, eliminando el listener una vez ha sido ejecutado.</li>\n",
    "\n",
    "<li>En tercer y último lugar, la opción <code>passive</code> nos permite crear un evento pasivo en el que indicamos que nunca llamaremos al método <code>.preventDefault()</code> para alterar el funcionamiento del evento. Esto puede ser muy interesante en temas de rendimiento (por ejemplo, al hacer scroll en una página), ya que los eventos pasivos son mucho menos costosos.</li>"
   ]
  },
  {
   "cell_type": "markdown",
   "metadata": {},
   "source": [
    "<hr>\n",
    "<h3>Método <code>.removeEventListener()</code></h3>\n",
    "El ejemplo anterior, se puede completar haciendo uso del método <code>.removeEventListener()</code>, que sirve como su propio nombre indica para eliminar un listener que se ha añadido previamente al elemento. Para ello es muy importante indicar la misma función que añadimos con el <code>.addEventListener()</code> y no una función diferente que haga lo mismo que la primera."
   ]
  },
  {
   "cell_type": "code",
   "execution_count": null,
   "metadata": {
    "vscode": {
     "languageId": "javascript"
    }
   },
   "outputs": [],
   "source": [
    "const button = document.querySelector(\"button\");\n",
    "const action = () => alert(\"Hello!\");\n",
    "const toggle = () => button.classList.toggle(\"red\");\n",
    "\n",
    "button.addEventListener(\"click\", action);         // Add listener\n",
    "button.addEventListener(\"click\", toggle);         // Toggle red CSS\n",
    "button.removeEventListener(\"click\", action);      // Delete listener"
   ]
  },
  {
   "cell_type": "code",
   "execution_count": null,
   "metadata": {
    "vscode": {
     "languageId": "html"
    }
   },
   "outputs": [],
   "source": [
    "<style>.red { background: red }</style>\n",
    "<button>Saludar</button>\n"
   ]
  }
 ],
 "metadata": {
  "language_info": {
   "name": "python"
  }
 },
 "nbformat": 4,
 "nbformat_minor": 2
}
