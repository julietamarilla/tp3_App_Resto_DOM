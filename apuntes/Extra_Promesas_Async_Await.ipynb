{
 "cells": [
  {
   "cell_type": "markdown",
   "metadata": {},
   "source": [
    "<h3>Diferencias entre Promises y Async/Await</h3>\n",
    "\n",
    "<h4>Promises (Promesas)</h4>\n",
    "Las Promesas son una característica introducida en ECMAScript 6 (ES6) que permite el manejo de operaciones asíncronas de una manera más estructurada y legible. Una Promesa representa un valor que puede estar disponible ahora, en el futuro o nunca. Está compuesta por tres estados posibles:\n",
    "<br>\n",
    "<li>Pendiente (Pending): El estado inicial de una Promise, cuando la operación aún no se ha completado.</li>\n",
    "<li>Cumplida (Fulfilled): La operación se ha completado satisfactoriamente y se proporciona un valor.</li>\n",
    "<li>Rechazada (Rejected): La operación ha fallado y se proporciona un motivo del fallo.</li>"
   ]
  },
  {
   "cell_type": "code",
   "execution_count": null,
   "metadata": {
    "vscode": {
     "languageId": "javascript"
    }
   },
   "outputs": [],
   "source": [
    "function fetchData() {\n",
    "    return new Promise((resolve, reject) => {\n",
    "      setTimeout(() => {\n",
    "        if (Math.random() < 0.5) {\n",
    "          resolve(\"Datos obtenidos con éxito\");\n",
    "        } else {\n",
    "          reject(\"Error al obtener los datos\");\n",
    "        }\n",
    "      }, 1000);\n",
    "    });\n",
    "  }\n",
    "  \n",
    "  fetchData()\n",
    "    .then((data) => {\n",
    "      console.log(data);\n",
    "    })\n",
    "    .catch((error) => {\n",
    "      console.error(error);\n",
    "    });"
   ]
  },
  {
   "cell_type": "markdown",
   "metadata": {},
   "source": [
    "<hr>\n",
    "<h4>Async/Await</h4>\n",
    "<code>Async/Await</code> es una característica introducida en ECMAScript 2017 (ES8) que proporciona una sintaxis más concisa y legible para trabajar con Promesas. La palabra clave async se utiliza antes de una función para indicar que la función devuelve una Promesa. Luego, dentro de la función, puedes utilizar await para esperar la resolución de una Promesa antes de continuar."
   ]
  },
  {
   "cell_type": "code",
   "execution_count": null,
   "metadata": {
    "vscode": {
     "languageId": "javascript"
    }
   },
   "outputs": [],
   "source": [
    "async function fetchData() {\n",
    "    return new Promise((resolve, reject) => {\n",
    "      setTimeout(() => {\n",
    "        if (Math.random() < 0.5) {\n",
    "          resolve(\"Datos obtenidos con éxito\");\n",
    "        } else {\n",
    "          reject(\"Error al obtener los datos\");\n",
    "        }\n",
    "      }, 1000);\n",
    "    });\n",
    "  }\n",
    "  \n",
    "  async function getData() {\n",
    "    try {\n",
    "      const data = await fetchData();\n",
    "      console.log(data);\n",
    "    } catch (error) {\n",
    "      console.error(error);\n",
    "    }\n",
    "  }\n",
    "  \n",
    "  getData();"
   ]
  },
  {
   "cell_type": "markdown",
   "metadata": {},
   "source": [
    "<hr>\n",
    "<h4>Diferencias clave</h4>\n",
    "Ahora que hemos visto ejemplos de ambas aproximaciones, aquí hay algunas diferencias clave:\n",
    "\n",
    "<li>Sintaxis: <code>Async/Await</code> proporciona una sintaxis más limpia y fácil de entender, especialmente cuando tienes que encadenar múltiples operaciones asincrónicas. Las Promesas pueden volverse difíciles de leer cuando hay muchas de ellas anidadas.</li>\n",
    "<li>Manejo de errores: <code>Async/Await</code> facilita el manejo de errores con el bloque <code>try...catch</code>, lo que hace que el código sea más robusto y menos propenso a errores.</li>\n",
    "<li>Legibilidad: <code>Async/Await</code> tiende a ser más legible y se asemeja más al código síncrono, lo que facilita la comprensión del flujo de ejecución.</li>\n",
    "<li>Flujo de ejecución: <code>Async/Await</code> para el flujo de ejecución hasta que se resuelve la promesa de await. Mientras que una Promesa continua con la ejecución. Esto puede causar algunas “problemas” de paralelismo que veremos en otro artículo.</li><br>\n",
    "<h5>¿Cuándo usar uno u otro?<h5>\n",
    "La elección entre Promises y Async/Await depende de tus preferencias personales y de la situación. Sin embargo, aquí hay algunas pautas generales:\n",
    "\n",
    "<li>Promises: Útil cuando deseas un mayor control sobre el flujo de ejecución o cuando trabajas con código asincrónico de manera más manual. Pueden ser preferibles en situaciones donde necesitas encadenar <code>Promises</code> de manera específica.</li>\n",
    "<li><code>Async/Await</code>: Recomendado para la mayoría de los casos, ya que ofrece una sintaxis más limpia y legible. Es especialmente útil cuando se trabaja con múltiples llamadas asincrónicas o cuando se necesita un manejo de errores más claro.</li><br>\n",
    "<i>En resumen, tanto Promesas como <code>Async/Await</code> son para el manejo de asincronía en JavaScript. La elección entre uno u otro dependerá de tu estilo de programación y las necesidades específicas de tu proyecto.<i>\n",
    "<br><hr>\n",
    "\n",
    "<span style=\"font-size: 14pt\">\n",
    "https://statefull.medium.com/diferencias-entre-promises-y-async-await-4dbf3eb5d7c8\n",
    "</span>\n"
   ]
  }
 ],
 "metadata": {
  "language_info": {
   "name": "python"
  }
 },
 "nbformat": 4,
 "nbformat_minor": 2
}
